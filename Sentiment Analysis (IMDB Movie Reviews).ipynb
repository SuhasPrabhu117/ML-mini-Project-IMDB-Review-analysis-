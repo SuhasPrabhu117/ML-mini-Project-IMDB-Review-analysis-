{
 "cells": [
  {
   "cell_type": "code",
   "execution_count": 4,
   "metadata": {},
   "outputs": [
    {
     "name": "stdout",
     "output_type": "stream",
     "text": [
      "Accuracy for C=0.01: 0.87104\n",
      "Accuracy for C=0.05: 0.88064\n",
      "Accuracy for C=0.25: 0.88192\n",
      "Accuracy for C=0.5: 0.88112\n",
      "Accuracy for C=1: 0.8784\n",
      "Final Accuracy: 0.88152\n",
      "('excellent', 0.9292549193423959)\n",
      "('perfect', 0.7907005834710253)\n",
      "('great', 0.6745323523875933)\n",
      "('amazing', 0.6127040012519653)\n",
      "('superb', 0.601936804694158)\n",
      "('worst', -1.3645959239411622)\n",
      "('waste', -1.166424223235376)\n",
      "('awful', -1.0324189681376759)\n",
      "('poorly', -0.8752018837121309)\n",
      "('boring', -0.856354346809877)\n"
     ]
    }
   ],
   "source": [
    "reviews_train = []\n",
    "for line in open('C:/Users/suhas/Desktop/DM Mini-Project/movie_data/full_train.txt', 'r',encoding='utf8'):\n",
    "    reviews_train.append(line.strip())\n",
    "\n",
    "reviews_test = []\n",
    "for line in open('C:/Users/suhas/Desktop/DM Mini-Project/movie_data/full_test.txt', 'r',encoding='utf8'):\n",
    "    reviews_test.append(line.strip())\n",
    "\n",
    "import re\n",
    "\n",
    "REPLACE_NO_SPACE = re.compile(\"[.;:!\\'?,\\\"()\\[\\]]\")\n",
    "REPLACE_WITH_SPACE = re.compile(\"(<br\\s*/><br\\s*/>)|(\\-)|(\\/)\")\n",
    "\n",
    "\n",
    "def preprocess_reviews(reviews):\n",
    "    reviews = [REPLACE_NO_SPACE.sub(\"\", line.lower()) for line in reviews]\n",
    "    reviews = [REPLACE_WITH_SPACE.sub(\" \", line) for line in reviews]\n",
    "\n",
    "    return reviews\n",
    "\n",
    "\n",
    "reviews_train_clean = preprocess_reviews(reviews_train)\n",
    "reviews_test_clean = preprocess_reviews(reviews_test)\n",
    "\n",
    "from sklearn.feature_extraction.text import CountVectorizer\n",
    "\n",
    "cv = CountVectorizer(binary=True)\n",
    "cv.fit(reviews_train_clean)\n",
    "X = cv.transform(reviews_train_clean)\n",
    "X_test = cv.transform(reviews_test_clean)\n",
    "\n",
    "from sklearn.linear_model import LogisticRegression\n",
    "from sklearn.metrics import accuracy_score\n",
    "from sklearn.model_selection import train_test_split\n",
    "\n",
    "target = [1 if i < 12500 else 0 for i in range(25000)]\n",
    "\n",
    "X_train, X_val, y_train, y_val = train_test_split( X, target, train_size=0.75)\n",
    "\n",
    "for c in [0.01, 0.05, 0.25, 0.5, 1]:\n",
    "    lr = LogisticRegression(C=c)\n",
    "    lr.fit(X_train, y_train)\n",
    "    print(\"Accuracy for C=%s: %s\"\n",
    "          % (c, accuracy_score(y_val, lr.predict(X_val))))\n",
    "\n",
    "\n",
    "final_model = LogisticRegression(C=0.05)\n",
    "final_model.fit(X, target)\n",
    "print (\"Final Accuracy: %s\"\n",
    "       % accuracy_score(target, final_model.predict(X_test)))\n",
    "\n",
    "feature_to_coef = {\n",
    "    word: coef for word, coef in zip(\n",
    "    cv.get_feature_names(), final_model.coef_[0]\n",
    ")\n",
    "}\n",
    "for best_positive in sorted(\n",
    "        feature_to_coef.items(),\n",
    "        key=lambda x: x[1],\n",
    "        reverse=True)[:5]:\n",
    "    print(best_positive)\n",
    "\n",
    "for best_negative in sorted(\n",
    "        feature_to_coef.items(),\n",
    "        key=lambda x: x[1])[:5]:\n",
    "    print(best_negative)\n"
   ]
  },
  {
   "cell_type": "code",
   "execution_count": null,
   "metadata": {},
   "outputs": [],
   "source": []
  },
  {
   "cell_type": "code",
   "execution_count": null,
   "metadata": {},
   "outputs": [],
   "source": []
  }
 ],
 "metadata": {
  "kernelspec": {
   "display_name": "Python 3",
   "language": "python",
   "name": "python3"
  },
  "language_info": {
   "codemirror_mode": {
    "name": "ipython",
    "version": 3
   },
   "file_extension": ".py",
   "mimetype": "text/x-python",
   "name": "python",
   "nbconvert_exporter": "python",
   "pygments_lexer": "ipython3",
   "version": "3.7.0"
  }
 },
 "nbformat": 4,
 "nbformat_minor": 2
}
